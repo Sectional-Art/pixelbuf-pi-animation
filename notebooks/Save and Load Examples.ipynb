{
 "cells": [
  {
   "cell_type": "markdown",
   "id": "2a60311f",
   "metadata": {},
   "source": [
    "# Save and Load Examples\n",
    "\n",
    "This notebook shows how to use the load and save functionality. We're going to:\n",
    "- Generate an animation\n",
    "- Save that animation\n",
    "- Load it to show that it works\n",
    "\n",
    "For this example, we'll focus on using JSON. As with the rest of the notebooks, this assumes that you have a similar test setup to me."
   ]
  },
  {
   "cell_type": "markdown",
   "id": "ea36a9b2",
   "metadata": {},
   "source": [
    "## Generating an Animation\n",
    "\n",
    "Since the goal is to keep this notebook as simple as possible, we're going to use the same RGB flash that we developed in another notebook:"
   ]
  },
  {
   "cell_type": "code",
   "execution_count": 1,
   "id": "f82be1df",
   "metadata": {},
   "outputs": [],
   "source": [
    "import sys\n",
    "\n",
    "sys.path.append('../')\n",
    "\n",
    "from adafruit_dotstar_pi_animation.data import *"
   ]
  },
  {
   "cell_type": "code",
   "execution_count": 2,
   "id": "4bc610aa",
   "metadata": {},
   "outputs": [],
   "source": [
    "# Make 11 blue pixels\n",
    "blue_pixels = [Pixel(red=0, blue=255, green=0, brightness=1.0) for i in range(11)]\n",
    "blue_frame = Frame(pixels=blue_pixels, display_ms=1000)\n",
    "\n",
    "# Make 11 red pixels\n",
    "red_pixels = [Pixel(red=255, blue=0, green=0, brightness=1.0) for i in range(11)]\n",
    "red_frame = Frame(pixels=red_pixels, display_ms=1000)\n",
    "\n",
    "# Make 11 green pixels\n",
    "green_pixels = [Pixel(red=0, blue=0, green=255, brightness=1.0) for i in range(11)]\n",
    "green_frame = Frame(pixels=green_pixels, display_ms=1000)\n",
    "\n",
    "animation = Animation(frames=[blue_frame, red_frame, green_frame], loop_infinitely=False, pause_between_play_ms=0, max_plays=1)"
   ]
  },
  {
   "cell_type": "markdown",
   "id": "a4877983",
   "metadata": {},
   "source": [
    "## Saving\n",
    "\n",
    "Here, we're going to save the animation. Rather than saving it into a physical file, we're going to use an IO object to mimic a file so that we can easily inspect it."
   ]
  },
  {
   "cell_type": "code",
   "execution_count": 3,
   "id": "ef5ba3db",
   "metadata": {},
   "outputs": [],
   "source": [
    "import io\n",
    "\n",
    "from adafruit_dotstar_pi_animation.parser import JsonAnimationParser"
   ]
  },
  {
   "cell_type": "code",
   "execution_count": 4,
   "id": "da479c30",
   "metadata": {},
   "outputs": [],
   "source": [
    "json_memory_file = io.StringIO()\n",
    "JsonAnimationParser.write(json_memory_file, animation)"
   ]
  },
  {
   "cell_type": "markdown",
   "id": "3bf3f549",
   "metadata": {},
   "source": [
    "Let's see what's inside of our file:"
   ]
  },
  {
   "cell_type": "code",
   "execution_count": 5,
   "id": "b2c7336a",
   "metadata": {},
   "outputs": [
    {
     "data": {
      "text/plain": [
       "'{\"frames\": [{\"display_ms\": 1000, \"pixels\": [{\"brightness\": 1.0, \"red\": 0, \"green\": 0, \"blue\": 255}, {\"brightness\": 1.0, \"red\": 0, \"green\": 0, \"blue\": 255}, {\"brightness\": 1.0, \"red\": 0, \"green\": 0, \"blue\": 255}, {\"brightness\": 1.0, \"red\": 0, \"green\": 0, \"blue\": 255}, {\"brightness\": 1.0, \"red\": 0, \"green\": 0, \"blue\": 255}, {\"brightness\": 1.0, \"red\": 0, \"green\": 0, \"blue\": 255}, {\"brightness\": 1.0, \"red\": 0, \"green\": 0, \"blue\": 255}, {\"brightness\": 1.0, \"red\": 0, \"green\": 0, \"blue\": 255}, {\"brightness\": 1.0, \"red\": 0, \"green\": 0, \"blue\": 255}, {\"brightness\": 1.0, \"red\": 0, \"green\": 0, \"blue\": 255}, {\"brightness\": 1.0, \"red\": 0, \"green\": 0, \"blue\": 255}]}, {\"display_ms\": 1000, \"pixels\": [{\"brightness\": 1.0, \"red\": 255, \"green\": 0, \"blue\": 0}, {\"brightness\": 1.0, \"red\": 255, \"green\": 0, \"blue\": 0}, {\"brightness\": 1.0, \"red\": 255, \"green\": 0, \"blue\": 0}, {\"brightness\": 1.0, \"red\": 255, \"green\": 0, \"blue\": 0}, {\"brightness\": 1.0, \"red\": 255, \"green\": 0, \"blue\": 0}, {\"brightness\": 1.0, \"red\": 255, \"green\": 0, \"blue\": 0}, {\"brightness\": 1.0, \"red\": 255, \"green\": 0, \"blue\": 0}, {\"brightness\": 1.0, \"red\": 255, \"green\": 0, \"blue\": 0}, {\"brightness\": 1.0, \"red\": 255, \"green\": 0, \"blue\": 0}, {\"brightness\": 1.0, \"red\": 255, \"green\": 0, \"blue\": 0}, {\"brightness\": 1.0, \"red\": 255, \"green\": 0, \"blue\": 0}]}, {\"display_ms\": 1000, \"pixels\": [{\"brightness\": 1.0, \"red\": 0, \"green\": 255, \"blue\": 0}, {\"brightness\": 1.0, \"red\": 0, \"green\": 255, \"blue\": 0}, {\"brightness\": 1.0, \"red\": 0, \"green\": 255, \"blue\": 0}, {\"brightness\": 1.0, \"red\": 0, \"green\": 255, \"blue\": 0}, {\"brightness\": 1.0, \"red\": 0, \"green\": 255, \"blue\": 0}, {\"brightness\": 1.0, \"red\": 0, \"green\": 255, \"blue\": 0}, {\"brightness\": 1.0, \"red\": 0, \"green\": 255, \"blue\": 0}, {\"brightness\": 1.0, \"red\": 0, \"green\": 255, \"blue\": 0}, {\"brightness\": 1.0, \"red\": 0, \"green\": 255, \"blue\": 0}, {\"brightness\": 1.0, \"red\": 0, \"green\": 255, \"blue\": 0}, {\"brightness\": 1.0, \"red\": 0, \"green\": 255, \"blue\": 0}]}], \"loop_infinitely\": false, \"pause_between_play_ms\": 0, \"max_plays\": 1}'"
      ]
     },
     "execution_count": 5,
     "metadata": {},
     "output_type": "execute_result"
    }
   ],
   "source": [
    "json_memory_file.seek(0)\n",
    "json_memory_file.read()"
   ]
  },
  {
   "cell_type": "markdown",
   "id": "289e9a85",
   "metadata": {},
   "source": [
    "## Reading\n",
    "\n",
    "Great, we were able to show that we can write to JSON. Let's read a that file and show that it produces an `Animation` object and that it can be played."
   ]
  },
  {
   "cell_type": "code",
   "execution_count": 6,
   "id": "a19fc5df",
   "metadata": {},
   "outputs": [],
   "source": [
    "json_memory_file.seek(0)\n",
    "animation_from_json_file = JsonAnimationParser.read(json_memory_file)"
   ]
  },
  {
   "cell_type": "markdown",
   "id": "d054ae54",
   "metadata": {},
   "source": [
    "Let's see what we got:"
   ]
  },
  {
   "cell_type": "code",
   "execution_count": 7,
   "id": "2e7aca25",
   "metadata": {},
   "outputs": [
    {
     "data": {
      "text/plain": [
       "Animation(frames=[Frame(display_ms=1000, pixels=[Pixel(brightness=1.0, red=0, green=0, blue=255), Pixel(brightness=1.0, red=0, green=0, blue=255), Pixel(brightness=1.0, red=0, green=0, blue=255), Pixel(brightness=1.0, red=0, green=0, blue=255), Pixel(brightness=1.0, red=0, green=0, blue=255), Pixel(brightness=1.0, red=0, green=0, blue=255), Pixel(brightness=1.0, red=0, green=0, blue=255), Pixel(brightness=1.0, red=0, green=0, blue=255), Pixel(brightness=1.0, red=0, green=0, blue=255), Pixel(brightness=1.0, red=0, green=0, blue=255), Pixel(brightness=1.0, red=0, green=0, blue=255)]), Frame(display_ms=1000, pixels=[Pixel(brightness=1.0, red=255, green=0, blue=0), Pixel(brightness=1.0, red=255, green=0, blue=0), Pixel(brightness=1.0, red=255, green=0, blue=0), Pixel(brightness=1.0, red=255, green=0, blue=0), Pixel(brightness=1.0, red=255, green=0, blue=0), Pixel(brightness=1.0, red=255, green=0, blue=0), Pixel(brightness=1.0, red=255, green=0, blue=0), Pixel(brightness=1.0, red=255, green=0, blue=0), Pixel(brightness=1.0, red=255, green=0, blue=0), Pixel(brightness=1.0, red=255, green=0, blue=0), Pixel(brightness=1.0, red=255, green=0, blue=0)]), Frame(display_ms=1000, pixels=[Pixel(brightness=1.0, red=0, green=255, blue=0), Pixel(brightness=1.0, red=0, green=255, blue=0), Pixel(brightness=1.0, red=0, green=255, blue=0), Pixel(brightness=1.0, red=0, green=255, blue=0), Pixel(brightness=1.0, red=0, green=255, blue=0), Pixel(brightness=1.0, red=0, green=255, blue=0), Pixel(brightness=1.0, red=0, green=255, blue=0), Pixel(brightness=1.0, red=0, green=255, blue=0), Pixel(brightness=1.0, red=0, green=255, blue=0), Pixel(brightness=1.0, red=0, green=255, blue=0), Pixel(brightness=1.0, red=0, green=255, blue=0)])], loop_infinitely=False, pause_between_play_ms=0, max_plays=1)"
      ]
     },
     "execution_count": 7,
     "metadata": {},
     "output_type": "execute_result"
    }
   ],
   "source": [
    "animation_from_json_file"
   ]
  },
  {
   "cell_type": "markdown",
   "id": "24ebfbb4",
   "metadata": {},
   "source": [
    "## Playing\n",
    "\n",
    "Let's show that animation that we read is playable:"
   ]
  },
  {
   "cell_type": "code",
   "execution_count": 8,
   "id": "7d5084f8",
   "metadata": {},
   "outputs": [],
   "source": [
    "import adafruit_dotstar\n",
    "import board\n",
    "\n",
    "from adafruit_dotstar_pi_animation.player import SimplePixelBufPlayer\n",
    "\n",
    "\n",
    "num_leds = 11\n",
    "pixels = adafruit_dotstar.DotStar(board.SCLK, board.MOSI, num_leds, pixel_order=adafruit_dotstar.BGR, auto_write=False)\n",
    "player = SimplePixelBufPlayer(pixels)\n",
    "player.load(animation_from_json_file)\n",
    "player.play()"
   ]
  },
  {
   "cell_type": "markdown",
   "id": "ded2ca09",
   "metadata": {},
   "source": [
    "As a fun aside, let's try the binary format (backed by MessagePack):"
   ]
  },
  {
   "cell_type": "code",
   "execution_count": 9,
   "id": "bf93ace0",
   "metadata": {},
   "outputs": [
    {
     "data": {
      "text/plain": [
       "Animation(frames=[Frame(display_ms=1000, pixels=[Pixel(brightness=1.0, red=0, green=0, blue=255), Pixel(brightness=1.0, red=0, green=0, blue=255), Pixel(brightness=1.0, red=0, green=0, blue=255), Pixel(brightness=1.0, red=0, green=0, blue=255), Pixel(brightness=1.0, red=0, green=0, blue=255), Pixel(brightness=1.0, red=0, green=0, blue=255), Pixel(brightness=1.0, red=0, green=0, blue=255), Pixel(brightness=1.0, red=0, green=0, blue=255), Pixel(brightness=1.0, red=0, green=0, blue=255), Pixel(brightness=1.0, red=0, green=0, blue=255), Pixel(brightness=1.0, red=0, green=0, blue=255)]), Frame(display_ms=1000, pixels=[Pixel(brightness=1.0, red=255, green=0, blue=0), Pixel(brightness=1.0, red=255, green=0, blue=0), Pixel(brightness=1.0, red=255, green=0, blue=0), Pixel(brightness=1.0, red=255, green=0, blue=0), Pixel(brightness=1.0, red=255, green=0, blue=0), Pixel(brightness=1.0, red=255, green=0, blue=0), Pixel(brightness=1.0, red=255, green=0, blue=0), Pixel(brightness=1.0, red=255, green=0, blue=0), Pixel(brightness=1.0, red=255, green=0, blue=0), Pixel(brightness=1.0, red=255, green=0, blue=0), Pixel(brightness=1.0, red=255, green=0, blue=0)]), Frame(display_ms=1000, pixels=[Pixel(brightness=1.0, red=0, green=255, blue=0), Pixel(brightness=1.0, red=0, green=255, blue=0), Pixel(brightness=1.0, red=0, green=255, blue=0), Pixel(brightness=1.0, red=0, green=255, blue=0), Pixel(brightness=1.0, red=0, green=255, blue=0), Pixel(brightness=1.0, red=0, green=255, blue=0), Pixel(brightness=1.0, red=0, green=255, blue=0), Pixel(brightness=1.0, red=0, green=255, blue=0), Pixel(brightness=1.0, red=0, green=255, blue=0), Pixel(brightness=1.0, red=0, green=255, blue=0), Pixel(brightness=1.0, red=0, green=255, blue=0)])], loop_infinitely=False, pause_between_play_ms=0, max_plays=1)"
      ]
     },
     "execution_count": 9,
     "metadata": {},
     "output_type": "execute_result"
    }
   ],
   "source": [
    "from adafruit_dotstar_pi_animation.parser import MsgPackAnimationParser\n",
    "\n",
    "messagepack_memory_file = io.BytesIO()\n",
    "MsgPackAnimationParser.write(messagepack_memory_file, animation)\n",
    "messagepack_memory_file.seek(0)\n",
    "animation_from_msg_pack = MsgPackAnimationParser.read(messagepack_memory_file)\n",
    "animation_from_msg_pack"
   ]
  },
  {
   "cell_type": "code",
   "execution_count": 10,
   "id": "94c8aacb",
   "metadata": {},
   "outputs": [
    {
     "data": {
      "text/plain": [
       "b'\\x84\\xa6frames\\x93\\x82\\xaadisplay_ms\\xcd\\x03\\xe8\\xa6pixels\\x9b\\x84\\xaabrightness\\xcb?\\xf0\\x00\\x00\\x00\\x00\\x00\\x00\\xa3red\\x00\\xa5green\\x00\\xa4blue\\xcc\\xff\\x84\\xaabrightness\\xcb?\\xf0\\x00\\x00\\x00\\x00\\x00\\x00\\xa3red\\x00\\xa5green\\x00\\xa4blue\\xcc\\xff\\x84\\xaabrightness\\xcb?\\xf0\\x00\\x00\\x00\\x00\\x00\\x00\\xa3red\\x00\\xa5green\\x00\\xa4blue\\xcc\\xff\\x84\\xaabrightness\\xcb?\\xf0\\x00\\x00\\x00\\x00\\x00\\x00\\xa3red\\x00\\xa5green\\x00\\xa4blue\\xcc\\xff\\x84\\xaabrightness\\xcb?\\xf0\\x00\\x00\\x00\\x00\\x00\\x00\\xa3red\\x00\\xa5green\\x00\\xa4blue\\xcc\\xff\\x84\\xaabrightness\\xcb?\\xf0\\x00\\x00\\x00\\x00\\x00\\x00\\xa3red\\x00\\xa5green\\x00\\xa4blue\\xcc\\xff\\x84\\xaabrightness\\xcb?\\xf0\\x00\\x00\\x00\\x00\\x00\\x00\\xa3red\\x00\\xa5green\\x00\\xa4blue\\xcc\\xff\\x84\\xaabrightness\\xcb?\\xf0\\x00\\x00\\x00\\x00\\x00\\x00\\xa3red\\x00\\xa5green\\x00\\xa4blue\\xcc\\xff\\x84\\xaabrightness\\xcb?\\xf0\\x00\\x00\\x00\\x00\\x00\\x00\\xa3red\\x00\\xa5green\\x00\\xa4blue\\xcc\\xff\\x84\\xaabrightness\\xcb?\\xf0\\x00\\x00\\x00\\x00\\x00\\x00\\xa3red\\x00\\xa5green\\x00\\xa4blue\\xcc\\xff\\x84\\xaabrightness\\xcb?\\xf0\\x00\\x00\\x00\\x00\\x00\\x00\\xa3red\\x00\\xa5green\\x00\\xa4blue\\xcc\\xff\\x82\\xaadisplay_ms\\xcd\\x03\\xe8\\xa6pixels\\x9b\\x84\\xaabrightness\\xcb?\\xf0\\x00\\x00\\x00\\x00\\x00\\x00\\xa3red\\xcc\\xff\\xa5green\\x00\\xa4blue\\x00\\x84\\xaabrightness\\xcb?\\xf0\\x00\\x00\\x00\\x00\\x00\\x00\\xa3red\\xcc\\xff\\xa5green\\x00\\xa4blue\\x00\\x84\\xaabrightness\\xcb?\\xf0\\x00\\x00\\x00\\x00\\x00\\x00\\xa3red\\xcc\\xff\\xa5green\\x00\\xa4blue\\x00\\x84\\xaabrightness\\xcb?\\xf0\\x00\\x00\\x00\\x00\\x00\\x00\\xa3red\\xcc\\xff\\xa5green\\x00\\xa4blue\\x00\\x84\\xaabrightness\\xcb?\\xf0\\x00\\x00\\x00\\x00\\x00\\x00\\xa3red\\xcc\\xff\\xa5green\\x00\\xa4blue\\x00\\x84\\xaabrightness\\xcb?\\xf0\\x00\\x00\\x00\\x00\\x00\\x00\\xa3red\\xcc\\xff\\xa5green\\x00\\xa4blue\\x00\\x84\\xaabrightness\\xcb?\\xf0\\x00\\x00\\x00\\x00\\x00\\x00\\xa3red\\xcc\\xff\\xa5green\\x00\\xa4blue\\x00\\x84\\xaabrightness\\xcb?\\xf0\\x00\\x00\\x00\\x00\\x00\\x00\\xa3red\\xcc\\xff\\xa5green\\x00\\xa4blue\\x00\\x84\\xaabrightness\\xcb?\\xf0\\x00\\x00\\x00\\x00\\x00\\x00\\xa3red\\xcc\\xff\\xa5green\\x00\\xa4blue\\x00\\x84\\xaabrightness\\xcb?\\xf0\\x00\\x00\\x00\\x00\\x00\\x00\\xa3red\\xcc\\xff\\xa5green\\x00\\xa4blue\\x00\\x84\\xaabrightness\\xcb?\\xf0\\x00\\x00\\x00\\x00\\x00\\x00\\xa3red\\xcc\\xff\\xa5green\\x00\\xa4blue\\x00\\x82\\xaadisplay_ms\\xcd\\x03\\xe8\\xa6pixels\\x9b\\x84\\xaabrightness\\xcb?\\xf0\\x00\\x00\\x00\\x00\\x00\\x00\\xa3red\\x00\\xa5green\\xcc\\xff\\xa4blue\\x00\\x84\\xaabrightness\\xcb?\\xf0\\x00\\x00\\x00\\x00\\x00\\x00\\xa3red\\x00\\xa5green\\xcc\\xff\\xa4blue\\x00\\x84\\xaabrightness\\xcb?\\xf0\\x00\\x00\\x00\\x00\\x00\\x00\\xa3red\\x00\\xa5green\\xcc\\xff\\xa4blue\\x00\\x84\\xaabrightness\\xcb?\\xf0\\x00\\x00\\x00\\x00\\x00\\x00\\xa3red\\x00\\xa5green\\xcc\\xff\\xa4blue\\x00\\x84\\xaabrightness\\xcb?\\xf0\\x00\\x00\\x00\\x00\\x00\\x00\\xa3red\\x00\\xa5green\\xcc\\xff\\xa4blue\\x00\\x84\\xaabrightness\\xcb?\\xf0\\x00\\x00\\x00\\x00\\x00\\x00\\xa3red\\x00\\xa5green\\xcc\\xff\\xa4blue\\x00\\x84\\xaabrightness\\xcb?\\xf0\\x00\\x00\\x00\\x00\\x00\\x00\\xa3red\\x00\\xa5green\\xcc\\xff\\xa4blue\\x00\\x84\\xaabrightness\\xcb?\\xf0\\x00\\x00\\x00\\x00\\x00\\x00\\xa3red\\x00\\xa5green\\xcc\\xff\\xa4blue\\x00\\x84\\xaabrightness\\xcb?\\xf0\\x00\\x00\\x00\\x00\\x00\\x00\\xa3red\\x00\\xa5green\\xcc\\xff\\xa4blue\\x00\\x84\\xaabrightness\\xcb?\\xf0\\x00\\x00\\x00\\x00\\x00\\x00\\xa3red\\x00\\xa5green\\xcc\\xff\\xa4blue\\x00\\x84\\xaabrightness\\xcb?\\xf0\\x00\\x00\\x00\\x00\\x00\\x00\\xa3red\\x00\\xa5green\\xcc\\xff\\xa4blue\\x00\\xafloop_infinitely\\xc2\\xb5pause_between_play_ms\\x00\\xa9max_plays\\x01'"
      ]
     },
     "execution_count": 10,
     "metadata": {},
     "output_type": "execute_result"
    }
   ],
   "source": [
    "messagepack_memory_file.seek(0)\n",
    "messagepack_memory_file.read()"
   ]
  },
  {
   "cell_type": "markdown",
   "id": "e471189b",
   "metadata": {},
   "source": [
    "Let's see how big the MessagePack file is compared to the JSON file:"
   ]
  },
  {
   "cell_type": "code",
   "execution_count": 11,
   "id": "bedfd4b0",
   "metadata": {},
   "outputs": [
    {
     "data": {
      "text/plain": [
       "(2032, 1449)"
      ]
     },
     "execution_count": 11,
     "metadata": {},
     "output_type": "execute_result"
    }
   ],
   "source": [
    "json_memory_file.seek(0)\n",
    "messagepack_memory_file.seek(0)\n",
    "\n",
    "len(json_memory_file.read()), len(messagepack_memory_file.read())"
   ]
  }
 ],
 "metadata": {
  "kernelspec": {
   "display_name": "Python 3 (ipykernel)",
   "language": "python",
   "name": "python3"
  },
  "language_info": {
   "codemirror_mode": {
    "name": "ipython",
    "version": 3
   },
   "file_extension": ".py",
   "mimetype": "text/x-python",
   "name": "python",
   "nbconvert_exporter": "python",
   "pygments_lexer": "ipython3",
   "version": "3.7.3"
  }
 },
 "nbformat": 4,
 "nbformat_minor": 5
}
