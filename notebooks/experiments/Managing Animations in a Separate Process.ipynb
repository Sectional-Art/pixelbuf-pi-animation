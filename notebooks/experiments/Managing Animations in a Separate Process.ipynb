{
 "cells": [
  {
   "cell_type": "markdown",
   "id": "5ac43d88",
   "metadata": {},
   "source": [
    "This notebook is centered around trying to figure out how to concurrently handle animating the LEDs while listening for events or some way to interrupt the animation. Ideally, it would be nice to be to have some sort of system that:\n",
    "\n",
    "- Manages the animation in a separate process, and\n",
    "- Has a process that listen for events to take action the first process\n",
    "\n",
    "You can imagine that:\n",
    "\n",
    "Some program sends message to -> Some animation management process which controls -> Animation process\n",
    "\n",
    "This experiment will focus on the last two. The idea is to use some of the facilities afforded to us in the `multiprocessing` package to do this.\n",
    "\n",
    "## Approach\n",
    "\n",
    "Because of the GIL, we do not have true parallel multithreading. Since we want the thing that communicates to the LEDs to run at the same time as the thing listening for events, we are forced to use multiprocessing.\n",
    "\n",
    "We can have a process (we'll call it the animation manager process for now) that is responsible for two things:\n",
    "\n",
    "- listening for messages; we'll pretend these messages contain animations\n",
    "- killing the current animation process and starting a new one with the new animation\n",
    "\n",
    "For listening for messages, we'll use the `multiprocessing.connection` package. For spawning a worker to play our animation, we'll use the `multiprocessing.Process` class."
   ]
  },
  {
   "cell_type": "code",
   "execution_count": null,
   "id": "4ca92f3b",
   "metadata": {},
   "outputs": [],
   "source": [
    "from pixelbuf_pi_animation.data import *\n",
    "from pixelbuf_pi_animation.player import SimplePixelBufPlayer\n",
    "\n",
    "import adafruit_dotstar\n",
    "import board\n",
    "\n",
    "\n",
    "num_leds = 11\n",
    "pixels = adafruit_dotstar.DotStar(board.SCLK, board.MOSI, num_leds, pixel_order=adafruit_dotstar.GBR, auto_write=False)"
   ]
  },
  {
   "cell_type": "code",
   "execution_count": null,
   "id": "5a54d2b6",
   "metadata": {},
   "outputs": [],
   "source": [
    "from multiprocessing import Process\n",
    "from multiprocessing.connection import Connection, Listener\n",
    "\n",
    "\n",
    "class AnimationManager:\n",
    "    \n",
    "    def __init__(self, player: SimplePixelBufPlayer, port: int, auth_key: bytes):\n",
    "        self._player = player\n",
    "        self._listener = Listener(address=('localhost', port), authkey=auth_key)\n",
    "        self._process = None\n",
    "    \n",
    "    @staticmethod\n",
    "    def render_animation(player: SimplePixelBufPlayer, animation: Animation):\n",
    "        \"\"\"\n",
    "        This is our animation \"worker\" and handles the communication with the LEDs\n",
    "        \"\"\"\n",
    "        player.load(animation)\n",
    "        player.play()\n",
    "    \n",
    "    def start(self):\n",
    "        \"\"\"\n",
    "        Main loop\n",
    "        \"\"\"\n",
    "        while True:\n",
    "            try:\n",
    "                # Accept the connection and get our message\n",
    "                connection = self._listener.accept()\n",
    "                animation_message = connection.recv()\n",
    "                \n",
    "                # Kill the current animation\n",
    "                if self._process and self._process.is_alive():\n",
    "                    self._process.terminate()\n",
    "                    \n",
    "                # Start a new process\n",
    "                self._process = Process(target=AnimationManager.render_animation, args=(self._player, animation_message))\n",
    "                self._process.start()\n",
    "                \n",
    "                # Send a response back to the client then close the connection\n",
    "                connection.send(self._process.pid)\n",
    "                connection.close()\n",
    "                \n",
    "            except Exception as e:\n",
    "                # If we have a connection, let them know we had an issue\n",
    "                if connection:\n",
    "                    connection.send(-1)\n",
    "                    connection.close()\n",
    "                print(e)\n"
   ]
  },
  {
   "cell_type": "code",
   "execution_count": null,
   "id": "7ca703b3",
   "metadata": {},
   "outputs": [],
   "source": [
    "# This cell will run infinitely\n",
    "\n",
    "player = SimplePixelBufPlayer(pixels)\n",
    "animation_manager = AnimationManager(player=player, port=10101, auth_key=b'supersecretkey')\n",
    "animation_manager.start()"
   ]
  }
 ],
 "metadata": {
  "kernelspec": {
   "display_name": "Python 3 (ipykernel)",
   "language": "python",
   "name": "python3"
  },
  "language_info": {
   "codemirror_mode": {
    "name": "ipython",
    "version": 3
   },
   "file_extension": ".py",
   "mimetype": "text/x-python",
   "name": "python",
   "nbconvert_exporter": "python",
   "pygments_lexer": "ipython3",
   "version": "3.7.3"
  }
 },
 "nbformat": 4,
 "nbformat_minor": 5
}
