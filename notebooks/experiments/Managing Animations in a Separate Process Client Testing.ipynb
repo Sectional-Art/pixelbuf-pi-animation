{
 "cells": [
  {
   "cell_type": "markdown",
   "id": "a339f5aa",
   "metadata": {},
   "source": [
    "In the Managing Animations in a Separate Process notebook, we created a simple management process that can listen on a socket to control animations. This notebook is used to create clients to test those processes."
   ]
  },
  {
   "cell_type": "code",
   "execution_count": null,
   "id": "1975bb65",
   "metadata": {},
   "outputs": [],
   "source": [
    "from multiprocessing.connection import Connection, Client\n",
    "\n",
    "from pixelbuf_pi_animation.data import *\n",
    "\n",
    "\n",
    "# Generate some animation; stolen from a different notebook\n",
    "blue_pixels = [Pixel(red=0, blue=255, green=0, brightness=1.0) for i in range(11)]\n",
    "blue_frame = Frame(pixels=blue_pixels, display_ms=1000)\n",
    "red_pixels = [Pixel(red=255, blue=0, green=0, brightness=1.0) for i in range(11)]\n",
    "red_frame = Frame(pixels=red_pixels, display_ms=1000)\n",
    "green_pixels = [Pixel(red=0, blue=0, green=255, brightness=1.0) for i in range(11)]\n",
    "green_frame = Frame(pixels=green_pixels, display_ms=1000)\n",
    "animation = Animation(frames=[blue_frame, red_frame, green_frame], loop_infinitely=False, pause_between_play_ms=0, max_plays=1)\n",
    "\n",
    "\n",
    "client = Client(address=('localhost', 10101), authkey=b'supersecretkey')\n",
    "client.send(animation)\n",
    "print(client.recv())\n",
    "client.close()"
   ]
  }
 ],
 "metadata": {
  "kernelspec": {
   "display_name": "Python 3 (ipykernel)",
   "language": "python",
   "name": "python3"
  },
  "language_info": {
   "codemirror_mode": {
    "name": "ipython",
    "version": 3
   },
   "file_extension": ".py",
   "mimetype": "text/x-python",
   "name": "python",
   "nbconvert_exporter": "python",
   "pygments_lexer": "ipython3",
   "version": "3.7.3"
  }
 },
 "nbformat": 4,
 "nbformat_minor": 5
}
