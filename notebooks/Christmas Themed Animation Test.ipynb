{
 "cells": [
  {
   "cell_type": "code",
   "execution_count": 1,
   "id": "1bfe89fc",
   "metadata": {},
   "outputs": [],
   "source": [
    "import sys\n",
    "\n",
    "\n",
    "sys.path.append('../')"
   ]
  },
  {
   "cell_type": "code",
   "execution_count": 2,
   "id": "d5a1bd49",
   "metadata": {},
   "outputs": [],
   "source": [
    "from adafruit_dotstar_pi_animation.data import *\n",
    "from adafruit_dotstar_pi_animation.player import SimplePixelBufPlayer\n",
    "\n",
    "import adafruit_dotstar\n",
    "import board\n",
    "\n",
    "\n",
    "num_leds = 11\n",
    "pixels = adafruit_dotstar.DotStar(board.SCLK, board.MOSI, num_leds, pixel_order=adafruit_dotstar.GBR, auto_write=False)"
   ]
  },
  {
   "cell_type": "code",
   "execution_count": 92,
   "id": "c1b6bf2c",
   "metadata": {},
   "outputs": [],
   "source": [
    "import dataclasses\n",
    "import random\n",
    "\n",
    "\n",
    "def generate_animation(len_of_single_led_cycle_ms, step_len_ms, num_leds, animation_total_len_ms, chance_pixel_stops_cycle):\n",
    "    red = Pixel(red=255, green=0, blue=0, brightness=1.0)\n",
    "    green = Pixel(red=0, green=255, blue=0, brightness=1.0)\n",
    "    white = Pixel(red=255, green=255, blue=255, brightness=1.0)\n",
    "    \n",
    "    current_time = 0\n",
    "    frames = []\n",
    "    brightness_step_size = 1 / (len_of_single_led_cycle_ms / step_len_ms)\n",
    "    pixel_choices = [red, green, white]\n",
    "    direction_to_starting_brightness_mapping = {\n",
    "        -1: 1.0,\n",
    "        1: 0.1\n",
    "    }\n",
    "    direction_choices = list(direction_to_starting_brightness_mapping.keys())\n",
    "    starting_brightness_choices = list(direction_to_starting_brightness_mapping.values())\n",
    "    \n",
    "\n",
    "    # Seed this thing with a random assortment of red/green choices, random brightness, and a random indicator for if \n",
    "    # we're getting brighter or dimmer\n",
    "\n",
    "    \n",
    "    pixel_brightness_directions = [random.choice(direction_choices) for _ in range(num_leds)]\n",
    "    starting_pixels = []\n",
    "    \n",
    "    for b in pixel_brightness_directions:\n",
    "        # We make the brightness random here so that the pixels aren't all on the same phase at the same time\n",
    "        new_pixel = dataclasses.replace(\n",
    "            random.choice(pixel_choices), \n",
    "            brightness=random.random())\n",
    "        starting_pixels.append(new_pixel)\n",
    "    \n",
    "    last_frame = Frame(pixels=starting_pixels, display_ms=step_len_ms)\n",
    "    while current_time < animation_total_len_ms:\n",
    "        # Frame loop\n",
    "        \n",
    "        next_frames_pixels = []\n",
    "        for p_idx, p in enumerate(last_frame.pixels):\n",
    "            # Pixel loop\n",
    "            # Step 1: Did this pixel randomly die?\n",
    "            # if random.random() > chance_pixel_stops_cycle:\n",
    "            #     # Yep, it's dead. Generate a totally new pixel\n",
    "            #     pixel_brightness_directions[p_idx] = random.choice(direction_choices)\n",
    "            #     next_frames_pixels.append(\n",
    "            #         dataclasses.replace(random.choice(pixel_choices), \n",
    "            #                             brightness=direction_to_starting_brightness_mapping[pixel_brightness_directions[p_idx]]))\n",
    "            #     continue\n",
    "            \n",
    "            new_brightness = p.brightness + (pixel_brightness_directions[p_idx] * brightness_step_size)\n",
    "            \n",
    "            # Step 2: Is it at max/min brightness?\n",
    "            if new_brightness >= 1.0 or new_brightness <= 0.1:\n",
    "                # Yep, it's done. Generate a totally new pixel\n",
    "                pixel_brightness_directions[p_idx] = random.choice(direction_choices)\n",
    "                next_frames_pixels.append(\n",
    "                    dataclasses.replace(random.choice(pixel_choices), \n",
    "                                        brightness=random.random()))\n",
    "                continue\n",
    "                \n",
    "            # Step 3: None of the above? Advance it's brightness progression\n",
    "            next_frames_pixels.append(\n",
    "                dataclasses.replace(p, brightness=new_brightness))\n",
    "        \n",
    "        current_time = current_time + step_len_ms\n",
    "        frames.append(Frame(pixels=next_frames_pixels, display_ms=step_len_ms))\n",
    "        last_frame = frames[-1]\n",
    "        \n",
    "    return Animation(frames=frames, max_plays=1, loop_infinitely=False, pause_between_play_ms=0)"
   ]
  },
  {
   "cell_type": "code",
   "execution_count": 104,
   "id": "ef2846f9",
   "metadata": {},
   "outputs": [
    {
     "ename": "KeyboardInterrupt",
     "evalue": "",
     "output_type": "error",
     "traceback": [
      "\u001b[0;31m---------------------------------------------------------------------------\u001b[0m",
      "\u001b[0;31mKeyboardInterrupt\u001b[0m                         Traceback (most recent call last)",
      "\u001b[0;32m/tmp/ipykernel_25609/3955772834.py\u001b[0m in \u001b[0;36m<module>\u001b[0;34m\u001b[0m\n\u001b[1;32m      3\u001b[0m \u001b[0mplayer\u001b[0m \u001b[0;34m=\u001b[0m \u001b[0mSimplePixelBufPlayer\u001b[0m\u001b[0;34m(\u001b[0m\u001b[0mpixels\u001b[0m\u001b[0;34m)\u001b[0m\u001b[0;34m\u001b[0m\u001b[0;34m\u001b[0m\u001b[0m\n\u001b[1;32m      4\u001b[0m \u001b[0mplayer\u001b[0m\u001b[0;34m.\u001b[0m\u001b[0mload\u001b[0m\u001b[0;34m(\u001b[0m\u001b[0mtest_animation\u001b[0m\u001b[0;34m)\u001b[0m\u001b[0;34m\u001b[0m\u001b[0;34m\u001b[0m\u001b[0m\n\u001b[0;32m----> 5\u001b[0;31m \u001b[0mplayer\u001b[0m\u001b[0;34m.\u001b[0m\u001b[0mplay\u001b[0m\u001b[0;34m(\u001b[0m\u001b[0;34m)\u001b[0m\u001b[0;34m\u001b[0m\u001b[0;34m\u001b[0m\u001b[0m\n\u001b[0m",
      "\u001b[0;32m~/adafruit_dotstart_pi_animation/proj_repl/adafruit_dotstar_pi_animation/player.py\u001b[0m in \u001b[0;36mplay\u001b[0;34m(self)\u001b[0m\n\u001b[1;32m     83\u001b[0m \u001b[0;34m\u001b[0m\u001b[0m\n\u001b[1;32m     84\u001b[0m                 \u001b[0;31m# Show the frame for a while\u001b[0m\u001b[0;34m\u001b[0m\u001b[0;34m\u001b[0m\u001b[0;34m\u001b[0m\u001b[0m\n\u001b[0;32m---> 85\u001b[0;31m                 \u001b[0mself\u001b[0m\u001b[0;34m.\u001b[0m\u001b[0m_controller\u001b[0m\u001b[0;34m.\u001b[0m\u001b[0mshow\u001b[0m\u001b[0;34m(\u001b[0m\u001b[0;34m)\u001b[0m\u001b[0;34m\u001b[0m\u001b[0;34m\u001b[0m\u001b[0m\n\u001b[0m\u001b[1;32m     86\u001b[0m                 \u001b[0msleep\u001b[0m\u001b[0;34m(\u001b[0m\u001b[0mframe\u001b[0m\u001b[0;34m.\u001b[0m\u001b[0mdisplay_ms\u001b[0m \u001b[0;34m/\u001b[0m \u001b[0;36m1000\u001b[0m\u001b[0;34m)\u001b[0m\u001b[0;34m\u001b[0m\u001b[0;34m\u001b[0m\u001b[0m\n\u001b[1;32m     87\u001b[0m \u001b[0;34m\u001b[0m\u001b[0m\n",
      "\u001b[0;32m~/adafruit_dotstart_pi_animation/venv/lib/python3.7/site-packages/adafruit_pixelbuf.py\u001b[0m in \u001b[0;36mshow\u001b[0;34m(self)\u001b[0m\n\u001b[1;32m    202\u001b[0m         \u001b[0mCall\u001b[0m \u001b[0mthe\u001b[0m \u001b[0massociated\u001b[0m \u001b[0mwrite\u001b[0m \u001b[0mfunction\u001b[0m \u001b[0mto\u001b[0m \u001b[0mdisplay\u001b[0m \u001b[0mthe\u001b[0m \u001b[0mpixels\u001b[0m\u001b[0;34m\u001b[0m\u001b[0;34m\u001b[0m\u001b[0m\n\u001b[1;32m    203\u001b[0m         \"\"\"\n\u001b[0;32m--> 204\u001b[0;31m         \u001b[0;32mreturn\u001b[0m \u001b[0mself\u001b[0m\u001b[0;34m.\u001b[0m\u001b[0m_transmit\u001b[0m\u001b[0;34m(\u001b[0m\u001b[0mself\u001b[0m\u001b[0;34m.\u001b[0m\u001b[0m_post_brightness_buffer\u001b[0m\u001b[0;34m)\u001b[0m\u001b[0;34m\u001b[0m\u001b[0;34m\u001b[0m\u001b[0m\n\u001b[0m\u001b[1;32m    205\u001b[0m \u001b[0;34m\u001b[0m\u001b[0m\n\u001b[1;32m    206\u001b[0m     \u001b[0;32mdef\u001b[0m \u001b[0mfill\u001b[0m\u001b[0;34m(\u001b[0m\u001b[0mself\u001b[0m\u001b[0;34m,\u001b[0m \u001b[0mcolor\u001b[0m\u001b[0;34m:\u001b[0m \u001b[0mColorUnion\u001b[0m\u001b[0;34m)\u001b[0m\u001b[0;34m:\u001b[0m\u001b[0;34m\u001b[0m\u001b[0;34m\u001b[0m\u001b[0m\n",
      "\u001b[0;32m~/adafruit_dotstart_pi_animation/venv/lib/python3.7/site-packages/adafruit_dotstar.py\u001b[0m in \u001b[0;36m_transmit\u001b[0;34m(self, buffer)\u001b[0m\n\u001b[1;32m    166\u001b[0m     \u001b[0;32mdef\u001b[0m \u001b[0m_transmit\u001b[0m\u001b[0;34m(\u001b[0m\u001b[0mself\u001b[0m\u001b[0;34m,\u001b[0m \u001b[0mbuffer\u001b[0m\u001b[0;34m)\u001b[0m\u001b[0;34m:\u001b[0m\u001b[0;34m\u001b[0m\u001b[0;34m\u001b[0m\u001b[0m\n\u001b[1;32m    167\u001b[0m         \u001b[0;32mif\u001b[0m \u001b[0mself\u001b[0m\u001b[0;34m.\u001b[0m\u001b[0m_spi\u001b[0m\u001b[0;34m:\u001b[0m\u001b[0;34m\u001b[0m\u001b[0;34m\u001b[0m\u001b[0m\n\u001b[0;32m--> 168\u001b[0;31m             \u001b[0mself\u001b[0m\u001b[0;34m.\u001b[0m\u001b[0m_spi\u001b[0m\u001b[0;34m.\u001b[0m\u001b[0mwrite\u001b[0m\u001b[0;34m(\u001b[0m\u001b[0mbuffer\u001b[0m\u001b[0;34m)\u001b[0m\u001b[0;34m\u001b[0m\u001b[0;34m\u001b[0m\u001b[0m\n\u001b[0m\u001b[1;32m    169\u001b[0m         \u001b[0;32melse\u001b[0m\u001b[0;34m:\u001b[0m\u001b[0;34m\u001b[0m\u001b[0;34m\u001b[0m\u001b[0m\n\u001b[1;32m    170\u001b[0m             \u001b[0mself\u001b[0m\u001b[0;34m.\u001b[0m\u001b[0m_ds_writebytes\u001b[0m\u001b[0;34m(\u001b[0m\u001b[0mbuffer\u001b[0m\u001b[0;34m)\u001b[0m\u001b[0;34m\u001b[0m\u001b[0;34m\u001b[0m\u001b[0m\n",
      "\u001b[0;32m~/adafruit_dotstart_pi_animation/venv/lib/python3.7/site-packages/busio.py\u001b[0m in \u001b[0;36mwrite\u001b[0;34m(self, buf, start, end)\u001b[0m\n\u001b[1;32m    366\u001b[0m     \u001b[0;32mdef\u001b[0m \u001b[0mwrite\u001b[0m\u001b[0;34m(\u001b[0m\u001b[0mself\u001b[0m\u001b[0;34m,\u001b[0m \u001b[0mbuf\u001b[0m\u001b[0;34m,\u001b[0m \u001b[0mstart\u001b[0m\u001b[0;34m=\u001b[0m\u001b[0;36m0\u001b[0m\u001b[0;34m,\u001b[0m \u001b[0mend\u001b[0m\u001b[0;34m=\u001b[0m\u001b[0;32mNone\u001b[0m\u001b[0;34m)\u001b[0m\u001b[0;34m:\u001b[0m\u001b[0;34m\u001b[0m\u001b[0;34m\u001b[0m\u001b[0m\n\u001b[1;32m    367\u001b[0m         \u001b[0;34m\"\"\"Write to the SPI device\"\"\"\u001b[0m\u001b[0;34m\u001b[0m\u001b[0;34m\u001b[0m\u001b[0m\n\u001b[0;32m--> 368\u001b[0;31m         \u001b[0;32mreturn\u001b[0m \u001b[0mself\u001b[0m\u001b[0;34m.\u001b[0m\u001b[0m_spi\u001b[0m\u001b[0;34m.\u001b[0m\u001b[0mwrite\u001b[0m\u001b[0;34m(\u001b[0m\u001b[0mbuf\u001b[0m\u001b[0;34m,\u001b[0m \u001b[0mstart\u001b[0m\u001b[0;34m,\u001b[0m \u001b[0mend\u001b[0m\u001b[0;34m)\u001b[0m\u001b[0;34m\u001b[0m\u001b[0;34m\u001b[0m\u001b[0m\n\u001b[0m\u001b[1;32m    369\u001b[0m \u001b[0;34m\u001b[0m\u001b[0m\n\u001b[1;32m    370\u001b[0m     \u001b[0;32mdef\u001b[0m \u001b[0mreadinto\u001b[0m\u001b[0;34m(\u001b[0m\u001b[0mself\u001b[0m\u001b[0;34m,\u001b[0m \u001b[0mbuf\u001b[0m\u001b[0;34m,\u001b[0m \u001b[0mstart\u001b[0m\u001b[0;34m=\u001b[0m\u001b[0;36m0\u001b[0m\u001b[0;34m,\u001b[0m \u001b[0mend\u001b[0m\u001b[0;34m=\u001b[0m\u001b[0;32mNone\u001b[0m\u001b[0;34m,\u001b[0m \u001b[0mwrite_value\u001b[0m\u001b[0;34m=\u001b[0m\u001b[0;36m0\u001b[0m\u001b[0;34m)\u001b[0m\u001b[0;34m:\u001b[0m\u001b[0;34m\u001b[0m\u001b[0;34m\u001b[0m\u001b[0m\n",
      "\u001b[0;32m~/adafruit_dotstart_pi_animation/venv/lib/python3.7/site-packages/adafruit_blinka/microcontroller/generic_linux/spi.py\u001b[0m in \u001b[0;36mwrite\u001b[0;34m(self, buf, start, end)\u001b[0m\n\u001b[1;32m     78\u001b[0m             \u001b[0;31m# self._spi.open(self._port, 0)\u001b[0m\u001b[0;34m\u001b[0m\u001b[0;34m\u001b[0m\u001b[0;34m\u001b[0m\u001b[0m\n\u001b[1;32m     79\u001b[0m             \u001b[0mself\u001b[0m\u001b[0;34m.\u001b[0m\u001b[0mset_no_cs\u001b[0m\u001b[0;34m(\u001b[0m\u001b[0;34m)\u001b[0m\u001b[0;34m\u001b[0m\u001b[0;34m\u001b[0m\u001b[0m\n\u001b[0;32m---> 80\u001b[0;31m             \u001b[0mself\u001b[0m\u001b[0;34m.\u001b[0m\u001b[0m_spi\u001b[0m\u001b[0;34m.\u001b[0m\u001b[0mmax_speed_hz\u001b[0m \u001b[0;34m=\u001b[0m \u001b[0mself\u001b[0m\u001b[0;34m.\u001b[0m\u001b[0mbaudrate\u001b[0m\u001b[0;34m\u001b[0m\u001b[0;34m\u001b[0m\u001b[0m\n\u001b[0m\u001b[1;32m     81\u001b[0m             \u001b[0mself\u001b[0m\u001b[0;34m.\u001b[0m\u001b[0m_spi\u001b[0m\u001b[0;34m.\u001b[0m\u001b[0mmode\u001b[0m \u001b[0;34m=\u001b[0m \u001b[0mself\u001b[0m\u001b[0;34m.\u001b[0m\u001b[0mmode\u001b[0m\u001b[0;34m\u001b[0m\u001b[0;34m\u001b[0m\u001b[0m\n\u001b[1;32m     82\u001b[0m             \u001b[0mself\u001b[0m\u001b[0;34m.\u001b[0m\u001b[0m_spi\u001b[0m\u001b[0;34m.\u001b[0m\u001b[0mbits_per_word\u001b[0m \u001b[0;34m=\u001b[0m \u001b[0mself\u001b[0m\u001b[0;34m.\u001b[0m\u001b[0mbits\u001b[0m\u001b[0;34m\u001b[0m\u001b[0;34m\u001b[0m\u001b[0m\n",
      "\u001b[0;32m~/adafruit_dotstart_pi_animation/venv/lib/python3.7/site-packages/Adafruit_PureIO/spi.py\u001b[0m in \u001b[0;36mmax_speed_hz\u001b[0;34m(self, max_speed_hz)\u001b[0m\n\u001b[1;32m    321\u001b[0m     \u001b[0;34m@\u001b[0m\u001b[0mmax_speed_hz\u001b[0m\u001b[0;34m.\u001b[0m\u001b[0msetter\u001b[0m\u001b[0;34m\u001b[0m\u001b[0;34m\u001b[0m\u001b[0m\n\u001b[1;32m    322\u001b[0m     \u001b[0;32mdef\u001b[0m \u001b[0mmax_speed_hz\u001b[0m\u001b[0;34m(\u001b[0m\u001b[0mself\u001b[0m\u001b[0;34m,\u001b[0m \u001b[0mmax_speed_hz\u001b[0m\u001b[0;34m)\u001b[0m\u001b[0;34m:\u001b[0m\u001b[0;34m\u001b[0m\u001b[0;34m\u001b[0m\u001b[0m\n\u001b[0;32m--> 323\u001b[0;31m         \u001b[0mself\u001b[0m\u001b[0;34m.\u001b[0m\u001b[0m_ioctl\u001b[0m\u001b[0;34m(\u001b[0m\u001b[0mSPI\u001b[0m\u001b[0;34m.\u001b[0m\u001b[0m_IOC_WR_MAX_SPEED_HZ\u001b[0m\u001b[0;34m,\u001b[0m \u001b[0mmax_speed_hz\u001b[0m\u001b[0;34m)\u001b[0m\u001b[0;34m\u001b[0m\u001b[0;34m\u001b[0m\u001b[0m\n\u001b[0m\u001b[1;32m    324\u001b[0m \u001b[0;34m\u001b[0m\u001b[0m\n\u001b[1;32m    325\u001b[0m     \u001b[0;34m@\u001b[0m\u001b[0mproperty\u001b[0m\u001b[0;34m\u001b[0m\u001b[0;34m\u001b[0m\u001b[0m\n",
      "\u001b[0;32m~/adafruit_dotstart_pi_animation/venv/lib/python3.7/site-packages/Adafruit_PureIO/spi.py\u001b[0m in \u001b[0;36m_ioctl\u001b[0;34m(self, ioctl_data, data)\u001b[0m\n\u001b[1;32m    221\u001b[0m             \u001b[0;32mreturn\u001b[0m \u001b[0marg\u001b[0m\u001b[0;34m[\u001b[0m\u001b[0;36m0\u001b[0m\u001b[0;34m]\u001b[0m\u001b[0;34m\u001b[0m\u001b[0;34m\u001b[0m\u001b[0m\n\u001b[1;32m    222\u001b[0m \u001b[0;34m\u001b[0m\u001b[0m\n\u001b[0;32m--> 223\u001b[0;31m         \u001b[0marg\u001b[0m \u001b[0;34m=\u001b[0m \u001b[0mstruct\u001b[0m\u001b[0;34m.\u001b[0m\u001b[0mpack\u001b[0m\u001b[0;34m(\u001b[0m\u001b[0;34m\"=\"\u001b[0m \u001b[0;34m+\u001b[0m \u001b[0mstructure\u001b[0m\u001b[0;34m,\u001b[0m \u001b[0mdata\u001b[0m\u001b[0;34m)\u001b[0m\u001b[0;34m\u001b[0m\u001b[0;34m\u001b[0m\u001b[0m\n\u001b[0m\u001b[1;32m    224\u001b[0m         \u001b[0mioctl\u001b[0m\u001b[0;34m(\u001b[0m\u001b[0mself\u001b[0m\u001b[0;34m.\u001b[0m\u001b[0mhandle\u001b[0m\u001b[0;34m,\u001b[0m \u001b[0mioctl_bytes\u001b[0m\u001b[0;34m,\u001b[0m \u001b[0marg\u001b[0m\u001b[0;34m)\u001b[0m\u001b[0;34m\u001b[0m\u001b[0;34m\u001b[0m\u001b[0m\n\u001b[1;32m    225\u001b[0m         \u001b[0;32mreturn\u001b[0m \u001b[0;32mNone\u001b[0m\u001b[0;34m\u001b[0m\u001b[0;34m\u001b[0m\u001b[0m\n",
      "\u001b[0;31mKeyboardInterrupt\u001b[0m: "
     ]
    }
   ],
   "source": [
    "test_animation = generate_animation(750, 5, num_leds, 10000, 1.0)\n",
    "test_animation.loop_infinitely = True\n",
    "player = SimplePixelBufPlayer(pixels)\n",
    "player.load(test_animation)\n",
    "player.play()"
   ]
  },
  {
   "cell_type": "code",
   "execution_count": 48,
   "id": "9962ddce",
   "metadata": {},
   "outputs": [],
   "source": [
    "for f in test_animation.frames:\n",
    "    for p in f.pixels:\n",
    "        if p.brightness != 0.0 and p.brightness != 1.0:\n",
    "            print(p.brightness)"
   ]
  },
  {
   "cell_type": "code",
   "execution_count": 103,
   "id": "bf5610d3",
   "metadata": {},
   "outputs": [],
   "source": [
    "pixels.fill((0, 0, 0))\n",
    "pixels.show()"
   ]
  }
 ],
 "metadata": {
  "kernelspec": {
   "display_name": "Python 3 (ipykernel)",
   "language": "python",
   "name": "python3"
  },
  "language_info": {
   "codemirror_mode": {
    "name": "ipython",
    "version": 3
   },
   "file_extension": ".py",
   "mimetype": "text/x-python",
   "name": "python",
   "nbconvert_exporter": "python",
   "pygments_lexer": "ipython3",
   "version": "3.7.3"
  }
 },
 "nbformat": 4,
 "nbformat_minor": 5
}
