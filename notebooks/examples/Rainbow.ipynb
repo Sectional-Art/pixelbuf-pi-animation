{
 "cells": [
  {
   "cell_type": "markdown",
   "id": "a37c39e8",
   "metadata": {},
   "source": [
    "This example generates a random sequence of rainbow colors to be rendered out to the LED strand. It's pretty straight forward. This notebook goes through the following steps:\n",
    "\n",
    "- Handle our imports\n",
    "- Set some constants, namely the list of rainbow colors we have available\n",
    "- Generate a random sequence of colors\n",
    "- Assemble that sequence into Pixels, Frames, and an Animation\n",
    "- Send the animation to the player"
   ]
  },
  {
   "cell_type": "code",
   "execution_count": null,
   "id": "aae091fb",
   "metadata": {},
   "outputs": [],
   "source": [
    "import dataclasses\n",
    "import random\n",
    "import sys\n",
    "\n",
    "import adafruit_dotstar\n",
    "import board\n",
    "\n",
    "\n",
    "from adafruit_dotstar_pi_animation.data import *\n",
    "from adafruit_dotstar_pi_animation.player import SimplePixelBufPlayer"
   ]
  },
  {
   "cell_type": "code",
   "execution_count": null,
   "id": "38353ccb",
   "metadata": {},
   "outputs": [],
   "source": [
    "# Constants\n",
    "red = Pixel(1.0, 255, 0, 0)\n",
    "orange = Pixel(1.0, 255, 40, 0)\n",
    "yellow = Pixel(1.0, 255, 150, 0)\n",
    "green = Pixel(1.0, 0, 255, 0)\n",
    "blue = Pixel(1.0, 0, 0, 255)\n",
    "purple = Pixel(1.0, 180, 0, 255)\n",
    "\n",
    "rainbow_colors = [red, orange, yellow, green, blue, purple]\n",
    "\n",
    "num_leds = 11\n",
    "cycles = 10\n",
    "frame_display_ms = 100"
   ]
  },
  {
   "cell_type": "code",
   "execution_count": null,
   "id": "af5b04f8",
   "metadata": {},
   "outputs": [],
   "source": [
    "random_color_sequence = [random.choice(rainbow_colors) for i in range(num_leds * cycles)]\n",
    "\n",
    "frames = []\n",
    "\n",
    "for i in range(cycles):\n",
    "    pixels = []\n",
    "    \n",
    "    for j in range(num_leds):\n",
    "        pixels.append(random_color_sequence[i * num_leds + j])\n",
    "        \n",
    "    frames.append(Frame(pixels=pixels, display_ms=frame_display_ms))\n",
    "    \n",
    "animation = Animation(frames=frames, max_plays=10, pause_between_play_ms=0, loop_infinitely=False)"
   ]
  },
  {
   "cell_type": "code",
   "execution_count": null,
   "id": "ee6bcf89",
   "metadata": {},
   "outputs": [],
   "source": [
    "pixels = adafruit_dotstar.DotStar(board.SCLK, board.MOSI, num_leds, pixel_order=adafruit_dotstar.GBR, auto_write=False)\n",
    "player = SimplePixelBufPlayer(pixels)\n",
    "player.load(animation)\n",
    "player.play()"
   ]
  }
 ],
 "metadata": {
  "kernelspec": {
   "display_name": "Python 3 (ipykernel)",
   "language": "python",
   "name": "python3"
  },
  "language_info": {
   "codemirror_mode": {
    "name": "ipython",
    "version": 3
   },
   "file_extension": ".py",
   "mimetype": "text/x-python",
   "name": "python",
   "nbconvert_exporter": "python",
   "pygments_lexer": "ipython3",
   "version": "3.7.3"
  }
 },
 "nbformat": 4,
 "nbformat_minor": 5
}
