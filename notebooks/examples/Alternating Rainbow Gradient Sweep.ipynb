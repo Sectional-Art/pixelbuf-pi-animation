{
 "cells": [
  {
   "cell_type": "markdown",
   "id": "6b174f8d",
   "metadata": {},
   "source": [
    "This example is very similar to the Simple Gradient Sweep, with two additoins:\n",
    "- The animation alternates directions, and\n",
    "- The animation gradient-sweeps between primary colors on the color wheel"
   ]
  },
  {
   "cell_type": "code",
   "execution_count": null,
   "id": "f31cb9b1",
   "metadata": {},
   "outputs": [],
   "source": [
    "import dataclasses\n",
    "import itertools\n",
    "import random\n",
    "import sys\n",
    "\n",
    "import adafruit_dotstar\n",
    "import board\n",
    "\n",
    "\n",
    "from pixelbuf_pi_animation.data import *\n",
    "from pixelbuf_pi_animation.player import SimplePixelBufPlayer"
   ]
  },
  {
   "cell_type": "code",
   "execution_count": null,
   "id": "cb36c2af",
   "metadata": {},
   "outputs": [],
   "source": [
    "# Constants\n",
    "num_leds = 11\n",
    "color_list = [\n",
    "    (0, 255, 0),\n",
    "    (0, 0, 255),\n",
    "    (180, 0, 255),\n",
    "    (255, 0, 0),\n",
    "    (255, 40, 0),\n",
    "    (255, 150, 0),\n",
    "]\n",
    "\n",
    "pixels = adafruit_dotstar.DotStar(board.SCLK, board.MOSI, num_leds, pixel_order=adafruit_dotstar.GBR, auto_write=False)"
   ]
  },
  {
   "cell_type": "code",
   "execution_count": null,
   "id": "8f346aa8",
   "metadata": {},
   "outputs": [],
   "source": [
    "color_cycle = itertools.cycle(color_list)\n",
    "frames = []\n",
    "direction_cycle = True\n",
    "\n",
    "ending_color = color_cycle.__next__()\n",
    "for t_ix in range(len(color_list)):\n",
    "    gradient_pixels = []\n",
    "    \n",
    "    starting_color = ending_color\n",
    "    ending_color = color_cycle.__next__()\n",
    "    direction_cycle = not direction_cycle\n",
    "    \n",
    "    color_deltas = (ending_color[0]-starting_color[0], \n",
    "                ending_color[1]-starting_color[1], \n",
    "                ending_color[2]-starting_color[2])\n",
    "\n",
    "    color_steps = (color_deltas[0] / num_leds,\n",
    "                   color_deltas[1] / num_leds,\n",
    "                   color_deltas[2] / num_leds)\n",
    "    \n",
    "    for i in range(num_leds):\n",
    "        gradient_pixels.append(Pixel(\n",
    "            red=min(starting_color[0] + (color_steps[0] * i), 255),\n",
    "            green=min(starting_color[1] + (color_steps[1] * i), 255),\n",
    "            blue=min(starting_color[2] + (color_steps[2] * i), 255),\n",
    "            brightness=1.0\n",
    "        ))\n",
    "\n",
    "    \n",
    "    for i in range(num_leds + 1):\n",
    "        frame_pixels = [None] * num_leds\n",
    "        for j in range(i):\n",
    "            if direction_cycle:\n",
    "                frame_pixels[j] = gradient_pixels[j]\n",
    "            else:\n",
    "                frame_pixels[num_leds-j-1] = gradient_pixels[j]\n",
    "        frames.append(Frame(pixels=frame_pixels, display_ms=100))\n",
    "\n",
    "animation = Animation(frames=frames, max_plays=1,loop_infinitely=False, pause_between_play_ms=0)\n",
    "player = SimplePixelBufPlayer(controller=pixels)\n",
    "player.load(animation)\n",
    "player.play()"
   ]
  }
 ],
 "metadata": {
  "kernelspec": {
   "display_name": "Python 3 (ipykernel)",
   "language": "python",
   "name": "python3"
  },
  "language_info": {
   "codemirror_mode": {
    "name": "ipython",
    "version": 3
   },
   "file_extension": ".py",
   "mimetype": "text/x-python",
   "name": "python",
   "nbconvert_exporter": "python",
   "pygments_lexer": "ipython3",
   "version": "3.7.3"
  }
 },
 "nbformat": 4,
 "nbformat_minor": 5
}
