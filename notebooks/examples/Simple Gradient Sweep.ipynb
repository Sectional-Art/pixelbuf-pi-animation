{
 "cells": [
  {
   "cell_type": "markdown",
   "id": "0301fb7b",
   "metadata": {},
   "source": [
    "This example generates a \"gradient sweep\" between two arbitrary colors. Given an starting and ending color, this notebook will calculate the how much to modify each pixel's color by such that the first pixel is the starting color, the last pixel is the ending color, and the pixels in between represent the incremental RGB steps between the two."
   ]
  },
  {
   "cell_type": "code",
   "execution_count": 1,
   "id": "c9f241b5",
   "metadata": {},
   "outputs": [],
   "source": [
    "import dataclasses\n",
    "import random\n",
    "import sys\n",
    "\n",
    "import adafruit_dotstar\n",
    "import board\n",
    "\n",
    "\n",
    "from adafruit_dotstar_pi_animation.data import *\n",
    "from adafruit_dotstar_pi_animation.player import SimplePixelBufPlayer"
   ]
  },
  {
   "cell_type": "code",
   "execution_count": 2,
   "id": "65a01911",
   "metadata": {},
   "outputs": [],
   "source": [
    "# Constants\n",
    "num_leds = 11\n",
    "#starting_color = (149, 245, 255)\n",
    "#ending_color = (0, 0, 255)\n",
    "starting_color = (0, 255, 50)\n",
    "ending_color = (255, 0, 155)\n",
    "\n",
    "pixels = adafruit_dotstar.DotStar(board.SCLK, board.MOSI, num_leds, pixel_order=adafruit_dotstar.GBR, auto_write=False)"
   ]
  },
  {
   "cell_type": "code",
   "execution_count": 3,
   "id": "ebee26dd",
   "metadata": {},
   "outputs": [],
   "source": [
    "color_deltas = (ending_color[0]-starting_color[0], \n",
    "                ending_color[1]-starting_color[1], \n",
    "                ending_color[2]-starting_color[2])\n",
    "\n",
    "color_steps = (color_deltas[0] / num_leds,\n",
    "               color_deltas[1] / num_leds,\n",
    "               color_deltas[2] / num_leds)"
   ]
  },
  {
   "cell_type": "code",
   "execution_count": null,
   "id": "85b0f3fe",
   "metadata": {},
   "outputs": [],
   "source": [
    "gradient_pixels = []\n",
    "\n",
    "for i in range(num_leds):\n",
    "    gradient_pixels.append(Pixel(\n",
    "        red=min(starting_color[0] + (color_steps[0] * i), 255),\n",
    "        green=min(starting_color[1] + (color_steps[1] * i), 255),\n",
    "        blue=min(starting_color[2] + (color_steps[2] * i), 255),\n",
    "        brightness=1.0\n",
    "    ))\n",
    "    \n",
    "frames = []\n",
    "for i in range(num_leds + 1):\n",
    "    frame_pixels = [None] * num_leds\n",
    "    for j in range(i):\n",
    "        frame_pixels[j] = gradient_pixels[j]\n",
    "    frames.append(Frame(pixels=frame_pixels, display_ms=150))\n",
    "    \n",
    "animation = Animation(frames=frames, max_plays=5, loop_infinitely=False, pause_between_play_ms=0)\n",
    "        \n",
    "player = SimplePixelBufPlayer(controller=pixels)\n",
    "player.load(animation)\n",
    "player.play()"
   ]
  }
 ],
 "metadata": {
  "kernelspec": {
   "display_name": "Python 3 (ipykernel)",
   "language": "python",
   "name": "python3"
  },
  "language_info": {
   "codemirror_mode": {
    "name": "ipython",
    "version": 3
   },
   "file_extension": ".py",
   "mimetype": "text/x-python",
   "name": "python",
   "nbconvert_exporter": "python",
   "pygments_lexer": "ipython3",
   "version": "3.7.3"
  }
 },
 "nbformat": 4,
 "nbformat_minor": 5
}
