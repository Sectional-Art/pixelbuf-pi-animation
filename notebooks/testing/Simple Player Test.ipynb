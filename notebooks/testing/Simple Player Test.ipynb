{
 "cells": [
  {
   "cell_type": "markdown",
   "id": "34e0cdf3",
   "metadata": {},
   "source": [
    "# Simple Player Test Notebook\n",
    "\n",
    "In my home setup, I have a Pi mounted to a plastic board and plugged into a strip of 11 DotStar LEDs. This board serves as my test bed and is where I perform all of my practical testing.\n",
    "\n",
    "This notebook serves as a simple test for myself and any others that might be using this library. This is about as simple as it gets. In order of cell execution, this notebook does the following:\n",
    "\n",
    "- Imports the level above the notebook directory as part of the system path. This allows us to import the modules without having them installed, which is super handle for development.\n",
    "- Imports the data objects and player modules.\n",
    "- Sets up the Adafruit DotStar object. If you're using a different LED setup, this cell will probably need to change.\n",
    "- Creates 3 frames, each of a different primary color.\n",
    "- Displays the 3 frames on the LED setup."
   ]
  },
  {
   "cell_type": "code",
   "execution_count": null,
   "id": "19b89946",
   "metadata": {},
   "outputs": [],
   "source": [
    "from adafruit_dotstar_pi_animation.data import *\n",
    "from adafruit_dotstar_pi_animation.player import SimplePixelBufPlayer"
   ]
  },
  {
   "cell_type": "code",
   "execution_count": null,
   "id": "487648c0",
   "metadata": {},
   "outputs": [],
   "source": [
    "import adafruit_dotstar\n",
    "import board\n",
    "\n",
    "\n",
    "num_leds = 11\n",
    "pixels = adafruit_dotstar.DotStar(board.SCLK, board.MOSI, num_leds, pixel_order=adafruit_dotstar.GBR, auto_write=False)"
   ]
  },
  {
   "cell_type": "code",
   "execution_count": null,
   "id": "0b2428f0",
   "metadata": {},
   "outputs": [],
   "source": [
    "# Make 11 blue pixels\n",
    "blue_pixels = [Pixel(red=0, blue=255, green=0, brightness=1.0) for i in range(11)]\n",
    "blue_frame = Frame(pixels=blue_pixels, display_ms=1000)\n",
    "\n",
    "# Make 11 red pixels\n",
    "red_pixels = [Pixel(red=255, blue=0, green=0, brightness=1.0) for i in range(11)]\n",
    "red_frame = Frame(pixels=red_pixels, display_ms=1000)\n",
    "\n",
    "# Make 11 green pixels\n",
    "green_pixels = [Pixel(red=0, blue=0, green=255, brightness=1.0) for i in range(11)]\n",
    "green_frame = Frame(pixels=green_pixels, display_ms=1000)\n",
    "\n",
    "animation = Animation(frames=[blue_frame, red_frame, green_frame], loop_infinitely=False, pause_between_play_ms=0, max_plays=1)"
   ]
  },
  {
   "cell_type": "code",
   "execution_count": null,
   "id": "41624f79",
   "metadata": {},
   "outputs": [],
   "source": [
    "player = SimplePixelBufPlayer(pixels)\n",
    "player.load(animation)\n",
    "player.play()"
   ]
  }
 ],
 "metadata": {
  "kernelspec": {
   "display_name": "Python 3 (ipykernel)",
   "language": "python",
   "name": "python3"
  },
  "language_info": {
   "codemirror_mode": {
    "name": "ipython",
    "version": 3
   },
   "file_extension": ".py",
   "mimetype": "text/x-python",
   "name": "python",
   "nbconvert_exporter": "python",
   "pygments_lexer": "ipython3",
   "version": "3.7.3"
  }
 },
 "nbformat": 4,
 "nbformat_minor": 5
}
